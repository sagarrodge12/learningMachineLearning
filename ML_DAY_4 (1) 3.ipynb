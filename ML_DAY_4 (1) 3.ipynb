{
  "nbformat": 4,
  "nbformat_minor": 0,
  "metadata": {
    "colab": {
      "provenance": [],
      "include_colab_link": true
    },
    "kernelspec": {
      "name": "python3",
      "display_name": "Python 3"
    },
    "language_info": {
      "name": "python"
    }
  },
  "cells": [
    {
      "cell_type": "markdown",
      "metadata": {
        "id": "view-in-github",
        "colab_type": "text"
      },
      "source": [
        "<a href=\"https://colab.research.google.com/github/sagarrodge12/learningMachineLearning/blob/main/ML_DAY_4%20(1)%203.ipynb\" target=\"_parent\"><img src=\"https://colab.research.google.com/assets/colab-badge.svg\" alt=\"Open In Colab\"/></a>"
      ]
    },
    {
      "cell_type": "code",
      "source": [
        "import numpy as np\n",
        "\n",
        "arr1 = np.array(100)\n",
        "arr2= np.array([1,2,3,4,5])\n",
        "arr3 = np.array([[1,2,\"NTT\"],[4,5,6]])\n",
        "arr4 = np.array([[[1,2,3],[4,5,6]],[[1,2,3],[4,5,6]]])\n",
        "\n",
        "print(arr1.ndim)\n",
        "print(arr2.ndim)\n",
        "print(arr3.ndim)\n",
        "print(arr4.ndim)"
      ],
      "metadata": {
        "colab": {
          "base_uri": "https://localhost:8080/"
        },
        "id": "ufEsrZNJaz2M",
        "outputId": "b96b7561-9838-4ff0-e756-cc116c46bf85"
      },
      "execution_count": null,
      "outputs": [
        {
          "output_type": "stream",
          "name": "stdout",
          "text": [
            "0\n",
            "1\n",
            "2\n",
            "3\n"
          ]
        }
      ]
    },
    {
      "cell_type": "code",
      "source": [
        "arr5 = np.array([1,2,3,4,5], ndmin=6)\n",
        "print(arr5)\n",
        "print('number of dimensions :', arr5.ndim)"
      ],
      "metadata": {
        "colab": {
          "base_uri": "https://localhost:8080/"
        },
        "id": "CW2M7_tNbjpu",
        "outputId": "b552926d-6cf5-4af9-eb5d-5b90e77c390a"
      },
      "execution_count": null,
      "outputs": [
        {
          "output_type": "stream",
          "name": "stdout",
          "text": [
            "[[[[[[1 2 3 4 5]]]]]]\n",
            "number of dimensions : 6\n"
          ]
        }
      ]
    },
    {
      "cell_type": "code",
      "source": [
        "arr2= np.array([1,2,3,4,5])\n",
        "print(arr2[::-1])"
      ],
      "metadata": {
        "colab": {
          "base_uri": "https://localhost:8080/"
        },
        "id": "ZAOqQA2sdruY",
        "outputId": "133785d3-ba81-4da0-b816-b714f69421d4"
      },
      "execution_count": null,
      "outputs": [
        {
          "output_type": "stream",
          "name": "stdout",
          "text": [
            "[5 4 3 2 1]\n"
          ]
        }
      ]
    },
    {
      "cell_type": "code",
      "source": [
        "arr3 = np.array([[1,2,3],[4,5,6]])\n",
        "print(arr3[-1,-1])"
      ],
      "metadata": {
        "colab": {
          "base_uri": "https://localhost:8080/"
        },
        "id": "PW_SKLAvd5O_",
        "outputId": "782ddf36-d5f1-45e1-fecc-8bcdd1be9d4d"
      },
      "execution_count": null,
      "outputs": [
        {
          "output_type": "stream",
          "name": "stdout",
          "text": [
            "6\n"
          ]
        }
      ]
    },
    {
      "cell_type": "code",
      "source": [
        "arr4 = np.array([[[1,2,3],[4,5,6]],[[1,2,3],[4,5,6]]])\n",
        "print(arr4[0,1,2])"
      ],
      "metadata": {
        "colab": {
          "base_uri": "https://localhost:8080/"
        },
        "id": "nAmbGvjSe5Dc",
        "outputId": "7a495e66-f35e-458f-896b-1813aa59d7ed"
      },
      "execution_count": null,
      "outputs": [
        {
          "output_type": "stream",
          "name": "stdout",
          "text": [
            "6\n"
          ]
        }
      ]
    },
    {
      "cell_type": "code",
      "source": [
        "arr2= np.array([1,2,3,4,5])\n",
        "l=arr2[1:4]\n",
        "print(l)\n",
        "l2= list(l)\n",
        "print(type(l2))\n",
        "print(type(l))"
      ],
      "metadata": {
        "colab": {
          "base_uri": "https://localhost:8080/"
        },
        "id": "FW1_92AwhWGt",
        "outputId": "2255cd60-548c-4be2-93c0-7325ad069c9c"
      },
      "execution_count": null,
      "outputs": [
        {
          "output_type": "stream",
          "name": "stdout",
          "text": [
            "[2 3 4]\n",
            "<class 'list'>\n",
            "<class 'numpy.ndarray'>\n"
          ]
        }
      ]
    },
    {
      "cell_type": "code",
      "source": [
        "arr2= np.array([1,2,3,4,5])\n",
        "print([arr2[-3:-1]])"
      ],
      "metadata": {
        "colab": {
          "base_uri": "https://localhost:8080/"
        },
        "id": "0pMrUGAXjSKO",
        "outputId": "a9e9ea4b-030b-4ac8-9abe-9e2c40f22e2e"
      },
      "execution_count": null,
      "outputs": [
        {
          "output_type": "stream",
          "name": "stdout",
          "text": [
            "[array([3, 4])]\n"
          ]
        }
      ]
    },
    {
      "cell_type": "code",
      "source": [
        "arr3 = np.array([[1,2,3,8,9,10],[4,5,6,9,9,9]])\n",
        "print(arr3[1:4,1:3])"
      ],
      "metadata": {
        "colab": {
          "base_uri": "https://localhost:8080/"
        },
        "id": "IKGBcfayjqXP",
        "outputId": "58836995-cd53-484b-f661-6e7e96e454fb"
      },
      "execution_count": null,
      "outputs": [
        {
          "output_type": "stream",
          "name": "stdout",
          "text": [
            "[[5 6]]\n"
          ]
        }
      ]
    },
    {
      "cell_type": "code",
      "source": [
        "arr2= np.array([1,2,3,4,1.1])\n",
        "print(arr2.dtype)\n",
        "print(arr2[0]+arr2[1])"
      ],
      "metadata": {
        "colab": {
          "base_uri": "https://localhost:8080/"
        },
        "id": "uv71Ff-jlkhc",
        "outputId": "8dae99f1-b7d0-40cf-b0b6-b05f696876de"
      },
      "execution_count": null,
      "outputs": [
        {
          "output_type": "stream",
          "name": "stdout",
          "text": [
            "float64\n",
            "3.0\n"
          ]
        }
      ]
    },
    {
      "cell_type": "code",
      "source": [
        "arr2= np.array([1,2,3,4,\"NTT\"])\n",
        "print(arr2.dtype)\n",
        "print(arr2[0]+arr2[1])"
      ],
      "metadata": {
        "colab": {
          "base_uri": "https://localhost:8080/"
        },
        "id": "jQ1hTpRPmMiv",
        "outputId": "dd5221d1-1851-425f-898a-2cca986d7bd5"
      },
      "execution_count": null,
      "outputs": [
        {
          "output_type": "stream",
          "name": "stdout",
          "text": [
            "<U21\n",
            "12\n"
          ]
        }
      ]
    },
    {
      "cell_type": "code",
      "source": [
        "a=\"ntt\"\n",
        "b=\"blr\"\n",
        "print(a+b)"
      ],
      "metadata": {
        "colab": {
          "base_uri": "https://localhost:8080/"
        },
        "id": "xyVvEVMOmX8j",
        "outputId": "b831b943-ac16-47c7-97bb-18414595eeb0"
      },
      "execution_count": null,
      "outputs": [
        {
          "output_type": "stream",
          "name": "stdout",
          "text": [
            "nttblr\n"
          ]
        }
      ]
    },
    {
      "cell_type": "code",
      "source": [
        "arr2= np.array([1.1,2.0,3.0,4.0,5])\n",
        "print(arr2.dtype)\n"
      ],
      "metadata": {
        "colab": {
          "base_uri": "https://localhost:8080/"
        },
        "id": "DsNKqkUVmgsm",
        "outputId": "da9dee0a-25f8-4955-f1fe-1fac88ecaf28"
      },
      "execution_count": null,
      "outputs": [
        {
          "output_type": "stream",
          "name": "stdout",
          "text": [
            "float64\n"
          ]
        }
      ]
    },
    {
      "cell_type": "code",
      "source": [
        "arr = np.array([1,2,3,4],dtype=\"S\")\n",
        "print(arr)\n",
        "print(arr[0]+arr[1])\n",
        "print(arr.dtype)"
      ],
      "metadata": {
        "colab": {
          "base_uri": "https://localhost:8080/"
        },
        "id": "6YZkZIbQm-CN",
        "outputId": "e95431ac-a7f5-4c49-959e-cf495f98cc80"
      },
      "execution_count": null,
      "outputs": [
        {
          "output_type": "stream",
          "name": "stdout",
          "text": [
            "[b'1' b'2' b'3' b'4']\n",
            "b'12'\n",
            "|S1\n"
          ]
        }
      ]
    },
    {
      "cell_type": "code",
      "source": [
        "arr = np.array([1,2,3,4],dtype=\"i8\")\n",
        "print(arr)\n",
        "print(arr[0]+arr[1])\n",
        "print(arr.dtype)"
      ],
      "metadata": {
        "colab": {
          "base_uri": "https://localhost:8080/"
        },
        "id": "8nCIJlcJl_Dg",
        "outputId": "31b016f5-8061-401f-81b2-f540d6541309"
      },
      "execution_count": null,
      "outputs": [
        {
          "output_type": "stream",
          "name": "stdout",
          "text": [
            "[1 2 3 4]\n",
            "3\n",
            "int64\n"
          ]
        }
      ]
    },
    {
      "cell_type": "code",
      "source": [
        "arr2= np.array([1.1,0,3.0,4.0,0])\n",
        "na = arr2.astype(bool)\n",
        "print(na)\n",
        "print(na.dtype)\n",
        "print(arr2.dtype)"
      ],
      "metadata": {
        "colab": {
          "base_uri": "https://localhost:8080/"
        },
        "id": "Cr4tpQ14n9dM",
        "outputId": "6410a25d-ac06-4ca4-a200-5764d9a0c836"
      },
      "execution_count": null,
      "outputs": [
        {
          "output_type": "stream",
          "name": "stdout",
          "text": [
            "[ True False  True  True False]\n",
            "bool\n",
            "float64\n"
          ]
        }
      ]
    },
    {
      "cell_type": "code",
      "source": [
        "#copy Vs View\n",
        "\n",
        "arr = np.array([1,2,3,4,5])\n",
        "x = arr.copy()\n",
        "arr[0] = 42\n",
        "print(arr)\n",
        "print(x)"
      ],
      "metadata": {
        "colab": {
          "base_uri": "https://localhost:8080/"
        },
        "id": "t_-IirjCo0X_",
        "outputId": "23c24412-58e4-45ab-dbe9-4de2e5812847"
      },
      "execution_count": null,
      "outputs": [
        {
          "output_type": "stream",
          "name": "stdout",
          "text": [
            "[42  2  3  4  5]\n",
            "[1 2 3 4 5]\n"
          ]
        }
      ]
    },
    {
      "cell_type": "code",
      "source": [
        "arr = np.array([1,2,3,4,5])\n",
        "x = arr.view()\n",
        "arr[0] = 42\n",
        "print(arr)\n",
        "print(x)"
      ],
      "metadata": {
        "colab": {
          "base_uri": "https://localhost:8080/"
        },
        "id": "p7-cs5Kvpsyn",
        "outputId": "bc62d823-f2cd-429d-e570-9f93ebf9ad29"
      },
      "execution_count": null,
      "outputs": [
        {
          "output_type": "stream",
          "name": "stdout",
          "text": [
            "[42  2  3  4  5]\n",
            "[42  2  3  4  5]\n"
          ]
        }
      ]
    },
    {
      "cell_type": "code",
      "source": [
        "#Numpy Array Shape\n",
        "\n",
        "arr3 = np.array([[1,2,3,8,9,10],[4,5,6,9,9,9]])\n",
        "print(arr3.shape)\n"
      ],
      "metadata": {
        "colab": {
          "base_uri": "https://localhost:8080/"
        },
        "id": "UwjNA5GUp8_Z",
        "outputId": "6a961a6a-de0d-4bbf-ef3a-e20927c6e146"
      },
      "execution_count": null,
      "outputs": [
        {
          "output_type": "stream",
          "name": "stdout",
          "text": [
            "(2, 6)\n"
          ]
        }
      ]
    },
    {
      "cell_type": "code",
      "source": [
        "arr = np.array([[[1,2,3,4],[8,9,10,11]],[[1,2,3,4],[8,9,10,11]]],ndmin=5)\n",
        "print(arr)\n",
        "print('shape of array :', arr.shape)"
      ],
      "metadata": {
        "colab": {
          "base_uri": "https://localhost:8080/"
        },
        "id": "6H95PVXPqUQQ",
        "outputId": "76509e41-161c-42fd-dec4-13d564f61ae2"
      },
      "execution_count": null,
      "outputs": [
        {
          "output_type": "stream",
          "name": "stdout",
          "text": [
            "[[[[[ 1  2  3  4]\n",
            "    [ 8  9 10 11]]\n",
            "\n",
            "   [[ 1  2  3  4]\n",
            "    [ 8  9 10 11]]]]]\n",
            "shape of array : (1, 1, 2, 2, 4)\n"
          ]
        }
      ]
    },
    {
      "cell_type": "code",
      "source": [
        "#reshaping\n",
        "\n",
        "arr = np.array([1,2,3,4,5,6,7,8,9,10,11,12])\n",
        "newarr = arr.reshape(4,3)\n",
        "print(newarr)"
      ],
      "metadata": {
        "colab": {
          "base_uri": "https://localhost:8080/"
        },
        "id": "Y3Rc-EDOrV9M",
        "outputId": "8e58a67d-b979-42bb-e5bd-b6fb3b0f4997"
      },
      "execution_count": null,
      "outputs": [
        {
          "output_type": "stream",
          "name": "stdout",
          "text": [
            "[[ 1  2  3]\n",
            " [ 4  5  6]\n",
            " [ 7  8  9]\n",
            " [10 11 12]]\n"
          ]
        }
      ]
    },
    {
      "cell_type": "code",
      "source": [
        "arr = np.array([1,2,3,4,5,6,7,8,9,10,11,12,12])\n",
        "newarr = arr.reshape(2,3,2)\n",
        "print(newarr)\n"
      ],
      "metadata": {
        "colab": {
          "base_uri": "https://localhost:8080/",
          "height": 176
        },
        "id": "6UIS1MVRrt-4",
        "outputId": "cdd4a41b-46be-4769-baf2-98d8577f238b"
      },
      "execution_count": null,
      "outputs": [
        {
          "output_type": "error",
          "ename": "ValueError",
          "evalue": "cannot reshape array of size 13 into shape (2,3,2)",
          "traceback": [
            "\u001b[0;31m---------------------------------------------------------------------------\u001b[0m",
            "\u001b[0;31mValueError\u001b[0m                                Traceback (most recent call last)",
            "\u001b[0;32m<ipython-input-45-a76b9109e793>\u001b[0m in \u001b[0;36m<cell line: 2>\u001b[0;34m()\u001b[0m\n\u001b[1;32m      1\u001b[0m \u001b[0marr\u001b[0m \u001b[0;34m=\u001b[0m \u001b[0mnp\u001b[0m\u001b[0;34m.\u001b[0m\u001b[0marray\u001b[0m\u001b[0;34m(\u001b[0m\u001b[0;34m[\u001b[0m\u001b[0;36m1\u001b[0m\u001b[0;34m,\u001b[0m\u001b[0;36m2\u001b[0m\u001b[0;34m,\u001b[0m\u001b[0;36m3\u001b[0m\u001b[0;34m,\u001b[0m\u001b[0;36m4\u001b[0m\u001b[0;34m,\u001b[0m\u001b[0;36m5\u001b[0m\u001b[0;34m,\u001b[0m\u001b[0;36m6\u001b[0m\u001b[0;34m,\u001b[0m\u001b[0;36m7\u001b[0m\u001b[0;34m,\u001b[0m\u001b[0;36m8\u001b[0m\u001b[0;34m,\u001b[0m\u001b[0;36m9\u001b[0m\u001b[0;34m,\u001b[0m\u001b[0;36m10\u001b[0m\u001b[0;34m,\u001b[0m\u001b[0;36m11\u001b[0m\u001b[0;34m,\u001b[0m\u001b[0;36m12\u001b[0m\u001b[0;34m,\u001b[0m\u001b[0;36m12\u001b[0m\u001b[0;34m]\u001b[0m\u001b[0;34m)\u001b[0m\u001b[0;34m\u001b[0m\u001b[0;34m\u001b[0m\u001b[0m\n\u001b[0;32m----> 2\u001b[0;31m \u001b[0mnewarr\u001b[0m \u001b[0;34m=\u001b[0m \u001b[0marr\u001b[0m\u001b[0;34m.\u001b[0m\u001b[0mreshape\u001b[0m\u001b[0;34m(\u001b[0m\u001b[0;36m2\u001b[0m\u001b[0;34m,\u001b[0m\u001b[0;36m3\u001b[0m\u001b[0;34m,\u001b[0m\u001b[0;36m2\u001b[0m\u001b[0;34m)\u001b[0m\u001b[0;34m\u001b[0m\u001b[0;34m\u001b[0m\u001b[0m\n\u001b[0m\u001b[1;32m      3\u001b[0m \u001b[0mprint\u001b[0m\u001b[0;34m(\u001b[0m\u001b[0mnewarr\u001b[0m\u001b[0;34m)\u001b[0m\u001b[0;34m\u001b[0m\u001b[0;34m\u001b[0m\u001b[0m\n",
            "\u001b[0;31mValueError\u001b[0m: cannot reshape array of size 13 into shape (2,3,2)"
          ]
        }
      ]
    },
    {
      "cell_type": "code",
      "source": [
        "arr = np.array([1,2,3,4,5,6,7,8,9])\n",
        "na = arr.reshape(2,3,-1)\n",
        "print(na)\n",
        "print(na.shape)"
      ],
      "metadata": {
        "colab": {
          "base_uri": "https://localhost:8080/",
          "height": 193
        },
        "id": "r9vYKu7At3nH",
        "outputId": "54d9eb90-47c5-4c2b-b993-9ea3fea1e932"
      },
      "execution_count": null,
      "outputs": [
        {
          "output_type": "error",
          "ename": "ValueError",
          "evalue": "cannot reshape array of size 9 into shape (2,3,newaxis)",
          "traceback": [
            "\u001b[0;31m---------------------------------------------------------------------------\u001b[0m",
            "\u001b[0;31mValueError\u001b[0m                                Traceback (most recent call last)",
            "\u001b[0;32m<ipython-input-55-5435b840538b>\u001b[0m in \u001b[0;36m<cell line: 2>\u001b[0;34m()\u001b[0m\n\u001b[1;32m      1\u001b[0m \u001b[0marr\u001b[0m \u001b[0;34m=\u001b[0m \u001b[0mnp\u001b[0m\u001b[0;34m.\u001b[0m\u001b[0marray\u001b[0m\u001b[0;34m(\u001b[0m\u001b[0;34m[\u001b[0m\u001b[0;36m1\u001b[0m\u001b[0;34m,\u001b[0m\u001b[0;36m2\u001b[0m\u001b[0;34m,\u001b[0m\u001b[0;36m3\u001b[0m\u001b[0;34m,\u001b[0m\u001b[0;36m4\u001b[0m\u001b[0;34m,\u001b[0m\u001b[0;36m5\u001b[0m\u001b[0;34m,\u001b[0m\u001b[0;36m6\u001b[0m\u001b[0;34m,\u001b[0m\u001b[0;36m7\u001b[0m\u001b[0;34m,\u001b[0m\u001b[0;36m8\u001b[0m\u001b[0;34m,\u001b[0m\u001b[0;36m9\u001b[0m\u001b[0;34m]\u001b[0m\u001b[0;34m)\u001b[0m\u001b[0;34m\u001b[0m\u001b[0;34m\u001b[0m\u001b[0m\n\u001b[0;32m----> 2\u001b[0;31m \u001b[0mna\u001b[0m \u001b[0;34m=\u001b[0m \u001b[0marr\u001b[0m\u001b[0;34m.\u001b[0m\u001b[0mreshape\u001b[0m\u001b[0;34m(\u001b[0m\u001b[0;36m2\u001b[0m\u001b[0;34m,\u001b[0m\u001b[0;36m3\u001b[0m\u001b[0;34m,\u001b[0m\u001b[0;34m-\u001b[0m\u001b[0;36m1\u001b[0m\u001b[0;34m)\u001b[0m\u001b[0;34m\u001b[0m\u001b[0;34m\u001b[0m\u001b[0m\n\u001b[0m\u001b[1;32m      3\u001b[0m \u001b[0mprint\u001b[0m\u001b[0;34m(\u001b[0m\u001b[0mna\u001b[0m\u001b[0;34m)\u001b[0m\u001b[0;34m\u001b[0m\u001b[0;34m\u001b[0m\u001b[0m\n\u001b[1;32m      4\u001b[0m \u001b[0mprint\u001b[0m\u001b[0;34m(\u001b[0m\u001b[0mna\u001b[0m\u001b[0;34m.\u001b[0m\u001b[0mshape\u001b[0m\u001b[0;34m)\u001b[0m\u001b[0;34m\u001b[0m\u001b[0;34m\u001b[0m\u001b[0m\n",
            "\u001b[0;31mValueError\u001b[0m: cannot reshape array of size 9 into shape (2,3,newaxis)"
          ]
        }
      ]
    },
    {
      "cell_type": "code",
      "source": [
        "#print(na)\n",
        "nna = na.reshape(-1)\n",
        "print(nna)"
      ],
      "metadata": {
        "colab": {
          "base_uri": "https://localhost:8080/"
        },
        "id": "2nIUnNWnvev-",
        "outputId": "cb2fbe33-0cd7-4208-e0be-7ec7c00295f4"
      },
      "execution_count": null,
      "outputs": [
        {
          "output_type": "stream",
          "name": "stdout",
          "text": [
            "[ 1  2  3  4  5  6  7  8  9 10 11 12]\n"
          ]
        }
      ]
    },
    {
      "cell_type": "code",
      "source": [
        "import numpy as np\n",
        "\n",
        "arr1 = np.array(100)\n",
        "arr2 = np.array([1,2,3,4])\n",
        "arr3 = np.array([[1,2,3],[4,5,6]])\n",
        "arr4 = np.array([[[1,2,3],[4,5,6]],[[1,2,3],[4,5,6]]])\n",
        "\n",
        "print(arr1.ndim)  #ndim returns dimentions if array\n",
        "print(arr2.ndim)\n",
        "print(arr3.ndim)\n",
        "print(arr4.ndim)"
      ],
      "metadata": {
        "id": "acs98xLYJpr-",
        "outputId": "3c7e6d64-2fb1-4eff-be36-b0bca25fcd61",
        "colab": {
          "base_uri": "https://localhost:8080/"
        }
      },
      "execution_count": 1,
      "outputs": [
        {
          "output_type": "stream",
          "name": "stdout",
          "text": [
            "0\n",
            "1\n",
            "2\n",
            "3\n"
          ]
        }
      ]
    },
    {
      "cell_type": "code",
      "source": [
        "# alternate way of creating multi dimentional array\n",
        "\n",
        "arr5 = np.array([1,2,3,4,5], ndmin=6) # whatever element you give it'll create that dim array\n",
        "print(arr5)\n",
        "print('number of dimensions :', arr5.ndim)"
      ],
      "metadata": {
        "id": "rk-KP5ewFTp3",
        "outputId": "69d3141b-60ef-46a9-a27b-5b56bf53a81e",
        "colab": {
          "base_uri": "https://localhost:8080/"
        }
      },
      "execution_count": 2,
      "outputs": [
        {
          "output_type": "stream",
          "name": "stdout",
          "text": [
            "[[[[[[1 2 3 4 5]]]]]]\n",
            "number of dimensions : 6\n"
          ]
        }
      ]
    },
    {
      "cell_type": "code",
      "source": [
        "# How to access the array\n",
        "\n",
        "arr2= np.array([1,2,3,4,5])\n",
        "print(arr2[0])\n",
        "print(arr2[0:2]) # can usee the range as well\n",
        "print(arr2[-1])\n",
        "print(arr2[-3:-1]) # -1 element is 5 since end elemt won't be included it won't print\n",
        "print(arr2[0::2]) # step size is 2 i.e. 2-1 =1 will skip one value"
      ],
      "metadata": {
        "id": "BRRdkGxhHfnl",
        "outputId": "d73841f0-2b3f-45c0-a473-d0c19b28c625",
        "colab": {
          "base_uri": "https://localhost:8080/"
        }
      },
      "execution_count": 7,
      "outputs": [
        {
          "output_type": "stream",
          "name": "stdout",
          "text": [
            "1\n",
            "[1 2]\n",
            "5\n",
            "[3 4]\n",
            "[1 3 5]\n"
          ]
        }
      ]
    },
    {
      "cell_type": "code",
      "source": [
        "# How to access double dim array\n",
        "\n",
        "arr3 = np.array([[1,2,3],[4,5,6]])\n",
        "print(arr3[0,1]) # in python we have one single square bracket 0th row 1st col\n",
        "print(arr3[1,2]) # 1st row 2nd col\n",
        "print(arr3[1,-1]) # 1st row last col\n",
        "\n",
        "# in terms of row positive indexing starts from left to right & negative indexing right to left\n",
        "# in terms of col positive indexing starts from top to bottom & negative indexing bottom to top"
      ],
      "metadata": {
        "id": "9-JeASm7IMaE",
        "outputId": "4bb53d0c-4a01-4872-d461-b24c4ddcdb6f",
        "colab": {
          "base_uri": "https://localhost:8080/"
        }
      },
      "execution_count": 9,
      "outputs": [
        {
          "output_type": "stream",
          "name": "stdout",
          "text": [
            "2\n",
            "6\n"
          ]
        }
      ]
    },
    {
      "cell_type": "code",
      "source": [
        "# access three dim array\n",
        "\n",
        "arr4 = np.array([[[1,2,3],[4,5,6]],[[1,2,3],[4,5,6]]])\n",
        "print(arr4[0,1,2]) # 0th array 1st row 2nd col"
      ],
      "metadata": {
        "id": "ZNp2p9FnIqYS",
        "outputId": "7770a1ea-2923-4f49-86d1-bc2ed7848125",
        "colab": {
          "base_uri": "https://localhost:8080/"
        }
      },
      "execution_count": 10,
      "outputs": [
        {
          "output_type": "stream",
          "name": "stdout",
          "text": [
            "6\n"
          ]
        }
      ]
    },
    {
      "cell_type": "code",
      "source": [
        "# Slicing -  from the given array how do we extract the part of array that is slicing is\n",
        "# syntax - [start : end : step]\n",
        "\n",
        "arr2 = np.array([1,2,3,4])\n",
        "l = arr2[1:4] # slicing\n",
        "print(l)\n",
        "l2 = list(l)\n",
        "print(type(l2))  # if you apply slicing on list type will be list\n",
        "print(type(l)) # if you apply slicing on array type will be array"
      ],
      "metadata": {
        "id": "i1nRSzneLbiU",
        "outputId": "6c7155c4-52dc-4ff3-cde3-6e9bc12770d5",
        "colab": {
          "base_uri": "https://localhost:8080/"
        }
      },
      "execution_count": 12,
      "outputs": [
        {
          "output_type": "stream",
          "name": "stdout",
          "text": [
            "[2 3 4]\n",
            "<class 'list'>\n",
            "<class 'numpy.ndarray'>\n"
          ]
        }
      ]
    },
    {
      "cell_type": "code",
      "source": [
        "arr2 = np.array([1,2,3,4,5])\n",
        "print([arr2[-3:-1]]) # why it is traversing from left to right because we have give step size positive (default)\n"
      ],
      "metadata": {
        "id": "qEq66VAEOdv1",
        "outputId": "26b4149f-376e-4283-8d08-fb229dd3f00e",
        "colab": {
          "base_uri": "https://localhost:8080/"
        }
      },
      "execution_count": 13,
      "outputs": [
        {
          "output_type": "stream",
          "name": "stdout",
          "text": [
            "[array([3, 4])]\n"
          ]
        }
      ]
    },
    {
      "cell_type": "code",
      "source": [
        "arr3 = np.array([[1,2,3,8,9,10],[4,5,6,9,9,9]]) # 2x 6 dim array\n",
        "print(arr3[1,1:2]) #1st row, starting from 1 end is 2 and it is excluded wo it'll print 5\n",
        "\n",
        "print(arr3[1:4,1:3]) #it'll take a subset of given array i.e first arg is for row\n",
        "                     #1:4 means it'll consider 1st 2nd 3rd rows, since we dont have 2nd and 3rd it won't consider those and it won't throw error cause we know if you give wrong indexing in range it won't throw error\n",
        "                     #1:3 means it'll consider 1st and 2nd cols\n",
        "                     #intersection will comes out"
      ],
      "metadata": {
        "id": "jCXp6cR0Qx5x",
        "outputId": "5c00111f-83f3-4eec-f18a-ec2e8f23c4cf",
        "colab": {
          "base_uri": "https://localhost:8080/"
        }
      },
      "execution_count": 14,
      "outputs": [
        {
          "output_type": "stream",
          "name": "stdout",
          "text": [
            "[5]\n",
            "[[5 6]]\n"
          ]
        }
      ]
    },
    {
      "cell_type": "code",
      "source": [
        "# Data types in python by default - string, Integer, float, boolean, complex\n",
        "# since array is homogenious we are going to bother about this\n",
        "# NumPy has some extra data types and data types numPy uses diff character to represent them\n",
        "# i - integer\n",
        "# b - boolean\n",
        "# u - unsigned integer\n",
        "# f - float\n",
        "# c - complex float\n",
        "# m - timedelta\n",
        "# M - datetime\n",
        "# O - object\n",
        "# S - string\n",
        "# U - unicode string\n",
        "# V - fixed chunck of memory for other type (void)\n"
      ],
      "metadata": {
        "id": "9kSQrzY_TTd4"
      },
      "execution_count": null,
      "outputs": []
    },
    {
      "cell_type": "code",
      "source": [
        "arr2 = np.array([1,2,3,4,1.1])\n",
        "print(arr2.dtype) # if you add one float ele whole array will become float type because array will take highest data type only and float is hightest\n",
        "print(arr2[0]+arr2[1])"
      ],
      "metadata": {
        "id": "HUXnXM1OUuJE",
        "outputId": "58f93c16-4087-40e2-e877-d5952bd52ac2",
        "colab": {
          "base_uri": "https://localhost:8080/"
        }
      },
      "execution_count": 18,
      "outputs": [
        {
          "output_type": "stream",
          "name": "stdout",
          "text": [
            "float64\n",
            "3.0\n"
          ]
        }
      ]
    },
    {
      "cell_type": "code",
      "source": [
        "arr2 = np.array([1,2,3,4,\"NTT\"])\n",
        "print(arr2.dtype) # whole array become string type\n",
        "print(arr2[0]+arr2[1]) # concatination will happen sinceits string"
      ],
      "metadata": {
        "id": "gcvkwqrMWfQq",
        "outputId": "55660a7b-e738-44a8-e8ca-c7613e0a5718",
        "colab": {
          "base_uri": "https://localhost:8080/"
        }
      },
      "execution_count": 19,
      "outputs": [
        {
          "output_type": "stream",
          "name": "stdout",
          "text": [
            "<U21\n",
            "12\n"
          ]
        }
      ]
    }
  ]
}