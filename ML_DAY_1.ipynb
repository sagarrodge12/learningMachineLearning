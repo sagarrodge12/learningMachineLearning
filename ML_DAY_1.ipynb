{
  "nbformat": 4,
  "nbformat_minor": 0,
  "metadata": {
    "colab": {
      "provenance": []
    },
    "kernelspec": {
      "name": "python3",
      "display_name": "Python 3"
    },
    "language_info": {
      "name": "python"
    }
  },
  "cells": [
    {
      "cell_type": "code",
      "execution_count": 2,
      "metadata": {
        "colab": {
          "base_uri": "https://localhost:8080/"
        },
        "id": "WBAgvCnxpRIK",
        "outputId": "c956f80b-4d46-485e-f5a2-feacfdeca3e1"
      },
      "outputs": [
        {
          "output_type": "stream",
          "name": "stdout",
          "text": [
            "[10, 20, 30]\n"
          ]
        }
      ],
      "source": [
        "# list introduction\n",
        "\n",
        "l = [10,20,30]\n",
        "print(l)"
      ]
    },
    {
      "cell_type": "code",
      "source": [
        "print(type(l)) # type function will check the data type of 'l'"
      ],
      "metadata": {
        "id": "UD4-lg6Ys61l",
        "outputId": "b79b01a2-9579-419c-ad87-ac33111de2c7",
        "colab": {
          "base_uri": "https://localhost:8080/"
        }
      },
      "execution_count": 3,
      "outputs": [
        {
          "output_type": "stream",
          "name": "stdout",
          "text": [
            "<class 'list'>\n"
          ]
        }
      ]
    },
    {
      "cell_type": "code",
      "source": [
        "l2 = [10,0.2333, \"NTT\"] #list are hetro\n",
        "print(l2)"
      ],
      "metadata": {
        "id": "P4pxrXdStJh0",
        "outputId": "04bb390c-e285-4580-c639-0df9e74a58f1",
        "colab": {
          "base_uri": "https://localhost:8080/"
        }
      },
      "execution_count": 4,
      "outputs": [
        {
          "output_type": "stream",
          "name": "stdout",
          "text": [
            "[10, 0.2333, 'NTT']\n"
          ]
        }
      ]
    },
    {
      "cell_type": "code",
      "source": [
        "print(len(l2)) # len function will find of out lenthod of list"
      ],
      "metadata": {
        "id": "sRB9UbDHtci9",
        "outputId": "45eb8a5b-30a9-4fb4-93e1-d8f09c7cb467",
        "colab": {
          "base_uri": "https://localhost:8080/"
        }
      },
      "execution_count": 6,
      "outputs": [
        {
          "output_type": "stream",
          "name": "stdout",
          "text": [
            "3\n"
          ]
        }
      ]
    },
    {
      "cell_type": "code",
      "source": [
        "# list creation using constructor list()\n",
        "\n",
        "l3 = list((10,20,3,3333))\n",
        "\n",
        "print(l3)\n",
        "print(type(l3))"
      ],
      "metadata": {
        "id": "i9sBz__vuTye",
        "outputId": "bc10a7c8-2fdc-41ff-ce36-d055f248c57a",
        "colab": {
          "base_uri": "https://localhost:8080/"
        }
      },
      "execution_count": 8,
      "outputs": [
        {
          "output_type": "stream",
          "name": "stdout",
          "text": [
            "[10, 20, 3, 3333]\n",
            "<class 'list'>\n"
          ]
        }
      ]
    },
    {
      "cell_type": "code",
      "source": [
        "lis = [10,20,30,40,50,60,1.1,2.2,\"NTT\"]\n",
        "\n",
        "# positive indexing\n",
        "print(lis[0])\n",
        "print(lis[1])\n",
        "print(lis[6])\n",
        "print(lis[8])"
      ],
      "metadata": {
        "id": "m-IhZ1wAu-oG",
        "outputId": "505a78b2-b678-443a-8ffd-0cdeb43cdb70",
        "colab": {
          "base_uri": "https://localhost:8080/"
        }
      },
      "execution_count": 12,
      "outputs": [
        {
          "output_type": "stream",
          "name": "stdout",
          "text": [
            "10\n",
            "20\n",
            "1.1\n",
            "NTT\n"
          ]
        }
      ]
    },
    {
      "cell_type": "code",
      "source": [
        "# negarive indexing\n",
        "print(lis[-1])\n",
        "print(lis[-3])\n",
        "print(lis[-6])\n",
        "print(lis[-8])"
      ],
      "metadata": {
        "id": "7a3NgAwPwO3g",
        "outputId": "40379221-6d00-4092-98dd-d925bf8a37c2",
        "colab": {
          "base_uri": "https://localhost:8080/"
        }
      },
      "execution_count": 13,
      "outputs": [
        {
          "output_type": "stream",
          "name": "stdout",
          "text": [
            "NTT\n",
            "1.1\n",
            "40\n",
            "20\n"
          ]
        }
      ]
    },
    {
      "cell_type": "code",
      "source": [
        "# range of positive indexing\n",
        "\n",
        "l = [10,20,30,40,50]\n",
        "print(l[0:3]) # will print from 0 index till 3 index i.e. 10,20,30\n",
        "print(l[1:4]) # 20, 30, 40\n",
        "print(l[2:5]) # if you want to print last number as well in the range give the beyond maximum value"
      ],
      "metadata": {
        "id": "Ij4sOYDvyNFI",
        "outputId": "5ef8cc60-40f3-4391-e233-7af8cec7653e",
        "colab": {
          "base_uri": "https://localhost:8080/"
        }
      },
      "execution_count": 14,
      "outputs": [
        {
          "output_type": "stream",
          "name": "stdout",
          "text": [
            "[10, 20, 30]\n",
            "[20, 30, 40]\n",
            "[30, 40, 50]\n"
          ]
        }
      ]
    },
    {
      "cell_type": "code",
      "source": [
        "# range of negative indexing\n",
        "\n",
        "l = [10,20,30,40,50]\n",
        "print(l[-5:-2]) # will print from -5 index till -2 index i.e. 10,20,30\n",
        "print(l[-4:-1]) # 20, 30, 40\n",
        "print(l[-3:-1]) # 30, 40\n"
      ],
      "metadata": {
        "id": "eqMG3Ur4yxRO",
        "outputId": "39a8a474-2050-4dc3-aa80-582ed861b159",
        "colab": {
          "base_uri": "https://localhost:8080/"
        }
      },
      "execution_count": 15,
      "outputs": [
        {
          "output_type": "stream",
          "name": "stdout",
          "text": [
            "[10, 20, 30]\n",
            "[20, 30, 40]\n",
            "[30, 40]\n"
          ]
        }
      ]
    },
    {
      "cell_type": "code",
      "source": [
        "# 3rd para in index ranging\n",
        "l = [10,20,30,40,50]\n",
        "\n",
        "print(l[0:5:2]) # 2-1 =1 skip one value from index 0 to 5"
      ],
      "metadata": {
        "id": "aZLip9uZ2p3F",
        "outputId": "5a68350f-b2af-4d6a-b1e4-28e0fea0d893",
        "colab": {
          "base_uri": "https://localhost:8080/"
        }
      },
      "execution_count": 16,
      "outputs": [
        {
          "output_type": "stream",
          "name": "stdout",
          "text": [
            "[10, 30, 50]\n"
          ]
        }
      ]
    },
    {
      "cell_type": "code",
      "source": [
        "#optional para in indexing range\n",
        "l = [10,20,30,40,50]\n"
      ],
      "metadata": {
        "id": "z3kv3KRl3FB9"
      },
      "execution_count": null,
      "outputs": []
    },
    {
      "cell_type": "code",
      "source": [
        "# replacing elements in list\n",
        "\n",
        "l = [10,20,30,40,50]\n",
        "l[0] = 100\n",
        "print(l)\n",
        "l[1:4] = [200,300,400] # from index 1 to 3 it'll replace with given element\n",
        "print(l)\n",
        "l[1:2] = [\"NTT\"]\n",
        "print(l)"
      ],
      "metadata": {
        "id": "OUmufBe83cFi",
        "outputId": "e0b0aa20-5523-40ea-a8d8-d9525f5a16c2",
        "colab": {
          "base_uri": "https://localhost:8080/"
        }
      },
      "execution_count": 19,
      "outputs": [
        {
          "output_type": "stream",
          "name": "stdout",
          "text": [
            "[100, 20, 30, 40, 50]\n",
            "[100, 200, 300, 400, 50]\n",
            "[100, 'NTT', 300, 400, 50]\n"
          ]
        }
      ]
    },
    {
      "cell_type": "code",
      "source": [
        "# Adding the element in list using append(end of the list)\n",
        "l = [10,20,30,40,50]\n",
        "l.append(60)  # appened will only take one element if you want to add more use loop\n",
        "print(l)"
      ],
      "metadata": {
        "id": "JNHttatJ8xd9",
        "outputId": "dbe1401f-62ca-4612-de68-d4888539cb1b",
        "colab": {
          "base_uri": "https://localhost:8080/"
        }
      },
      "execution_count": 20,
      "outputs": [
        {
          "output_type": "stream",
          "name": "stdout",
          "text": [
            "[10, 20, 30, 40, 50, 60]\n"
          ]
        }
      ]
    },
    {
      "cell_type": "code",
      "source": [
        "# Inserting the element in list in specific position\n",
        "\n",
        "l = [10,20,30,40,50]\n",
        "l.insert(2,300)\n",
        "print(l)"
      ],
      "metadata": {
        "id": "j9EdRjSg9DkC",
        "outputId": "76f1e864-aeff-4fa8-ce17-05539c396f26",
        "colab": {
          "base_uri": "https://localhost:8080/"
        }
      },
      "execution_count": 21,
      "outputs": [
        {
          "output_type": "stream",
          "name": "stdout",
          "text": [
            "[10, 20, 300, 30, 40, 50]\n"
          ]
        }
      ]
    },
    {
      "cell_type": "code",
      "source": [
        "# Extending the list using another list\n",
        "\n",
        "l1 = [10,20,30]\n",
        "l2 = [40,50,60]\n",
        "l1.extend(l2)\n",
        "print(l1)"
      ],
      "metadata": {
        "id": "58vedtne9bJP",
        "outputId": "8e7632f3-56b0-450c-b04e-0424b938b19c",
        "colab": {
          "base_uri": "https://localhost:8080/"
        }
      },
      "execution_count": 23,
      "outputs": [
        {
          "output_type": "stream",
          "name": "stdout",
          "text": [
            "[10, 20, 30, 40, 50, 60]\n"
          ]
        }
      ]
    },
    {
      "cell_type": "code",
      "source": [
        "# removing the element from list\n",
        "\n",
        "l = [10,20,30,40,50]\n",
        "l.remove(30)  # remove function takes value only\n",
        "print(l)\n",
        "l.pop(2) # pop function takes index value\n",
        "print(l)"
      ],
      "metadata": {
        "id": "hcnTFJ3w_QnW",
        "outputId": "c817bb1c-7383-4f3f-e697-81bf62893e3f",
        "colab": {
          "base_uri": "https://localhost:8080/"
        }
      },
      "execution_count": 25,
      "outputs": [
        {
          "output_type": "stream",
          "name": "stdout",
          "text": [
            "[10, 20, 40, 50]\n",
            "[10, 20, 50]\n"
          ]
        }
      ]
    },
    {
      "cell_type": "code",
      "source": [
        "# delete the list\n",
        "\n",
        "l = [10,20,30,40,50]\n",
        "del l[0]  # if you give specific index it'll remove that index value\n",
        "print(l)\n",
        "del l  # delete whole list\n"
      ],
      "metadata": {
        "id": "-lQuuB1z_qKq",
        "outputId": "413bcf60-06ca-44b4-ed94-1b89aa6e26f2",
        "colab": {
          "base_uri": "https://localhost:8080/"
        }
      },
      "execution_count": 27,
      "outputs": [
        {
          "output_type": "stream",
          "name": "stdout",
          "text": [
            "[20, 30, 40, 50]\n"
          ]
        }
      ]
    },
    {
      "cell_type": "code",
      "source": [
        "# delete the element the list but empty list shoule be there\n",
        "\n",
        "l = [10,20,30,40]\n",
        "l.clear()\n",
        "print(l)"
      ],
      "metadata": {
        "id": "5yGn9u_bAC0a",
        "outputId": "3b75d2a0-f53d-4ba8-ef6f-fce867dfa181",
        "colab": {
          "base_uri": "https://localhost:8080/"
        }
      },
      "execution_count": 28,
      "outputs": [
        {
          "output_type": "stream",
          "name": "stdout",
          "text": [
            "[]\n"
          ]
        }
      ]
    },
    {
      "cell_type": "code",
      "source": [
        "lis = [10,20,30,40,50,60]\n",
        "\n",
        "for i in lis:   # iteration of list\n",
        "    print(i)\n",
        "    print(i+5)"
      ],
      "metadata": {
        "id": "lVq-DtX6ARPa",
        "outputId": "5a914952-dbad-4d63-9d3d-4bebc07df257",
        "colab": {
          "base_uri": "https://localhost:8080/"
        }
      },
      "execution_count": 33,
      "outputs": [
        {
          "output_type": "stream",
          "name": "stdout",
          "text": [
            "10\n",
            "15\n",
            "20\n",
            "25\n",
            "30\n",
            "35\n",
            "40\n",
            "45\n",
            "50\n",
            "55\n",
            "60\n",
            "65\n"
          ]
        }
      ]
    }
  ]
}