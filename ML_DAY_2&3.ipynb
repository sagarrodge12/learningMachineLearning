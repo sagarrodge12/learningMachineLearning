{
  "nbformat": 4,
  "nbformat_minor": 0,
  "metadata": {
    "colab": {
      "provenance": [],
      "include_colab_link": true
    },
    "kernelspec": {
      "name": "python3",
      "display_name": "Python 3"
    },
    "language_info": {
      "name": "python"
    }
  },
  "cells": [
    {
      "cell_type": "markdown",
      "metadata": {
        "id": "view-in-github",
        "colab_type": "text"
      },
      "source": [
        "<a href=\"https://colab.research.google.com/github/sagarrodge12/learningMachineLearning/blob/main/ML_DAY_2%263.ipynb\" target=\"_parent\"><img src=\"https://colab.research.google.com/assets/colab-badge.svg\" alt=\"Open In Colab\"/></a>"
      ]
    },
    {
      "cell_type": "code",
      "execution_count": 1,
      "metadata": {
        "colab": {
          "base_uri": "https://localhost:8080/"
        },
        "id": "ZkJ10K5o3YG6",
        "outputId": "b17c2d01-27ac-49af-852f-2e63f4337639"
      },
      "outputs": [
        {
          "output_type": "stream",
          "name": "stdout",
          "text": [
            "('physics', 'chemistry', 1997, 2000) (1, 2, 3, 4, 5) ('a', 'b', 'c', 'd')\n"
          ]
        }
      ],
      "source": [
        "# Creating a Tuple\n",
        "# tuple is hetrogenious can store any type of value like List\n",
        "# tuple is immutable you cannot change it once you've created it\n",
        "\n",
        "tup1 = ('physics', 'chemistry', 1997, 2000)\n",
        "tup2 = (1, 2, 3, 4, 5 )\n",
        "tup3 = \"a\", \"b\", \"c\", \"d\"\n",
        "print(tup1,tup2,tup3)"
      ]
    },
    {
      "cell_type": "markdown",
      "source": [],
      "metadata": {
        "id": "Yq17pHCWAKQS"
      }
    },
    {
      "cell_type": "code",
      "source": [
        "# creating tuple with the help of constructor tuple\n",
        "\n",
        "t2 = tuple(tup1)\n",
        "print(t2)\n",
        "t3 = tuple((\"ntt\",1,2,3,4))\n",
        "print(t3)\n",
        "\n",
        "# If you pass the list in tuple it'll convert into tuple\n",
        "t4 = tuple([\"ntt\",1,2,3,\"Hanover\"])\n",
        "print(t4)"
      ],
      "metadata": {
        "id": "Dfj_kvJ9_qLi",
        "outputId": "d5d69293-05ce-44e9-ff26-513df1c36e43",
        "colab": {
          "base_uri": "https://localhost:8080/"
        }
      },
      "execution_count": 6,
      "outputs": [
        {
          "output_type": "stream",
          "name": "stdout",
          "text": [
            "('physics', 'chemistry', 1997, 2000)\n",
            "('ntt', 1, 2, 3, 4)\n",
            "('ntt', 1, 2, 3, 'Hanover')\n"
          ]
        }
      ]
    },
    {
      "cell_type": "code",
      "source": [
        "t5 = tuple((\"SAGAR\")) # because it an iterbale element; incase of int it won't work\n",
        "print(t5)\n",
        "t6 = tuple([\"SAGAR\"]) # it'll print SAGAR whole name because you're passing as list\n",
        "print(t6)\n",
        "#t7 = tuple((15)) # it'll throw error beause it is not iterable element it won't be able to seperate 1 and 5\n",
        "t8 = tuple ((15,)) # if you put , it'll understand it is tuple\n",
        "print(t8)"
      ],
      "metadata": {
        "id": "uS0FjajdBJAu",
        "outputId": "fc34ab35-2869-4e39-9089-34b151473f99",
        "colab": {
          "base_uri": "https://localhost:8080/"
        }
      },
      "execution_count": 12,
      "outputs": [
        {
          "output_type": "stream",
          "name": "stdout",
          "text": [
            "('S', 'A', 'G', 'A', 'R')\n",
            "('SAGAR',)\n",
            "(15,)\n"
          ]
        }
      ]
    },
    {
      "cell_type": "code",
      "source": [
        "a = (20) # this is normal declearation\n",
        "print(type(a))\n",
        "b = (20,)  # by using , you can say that its tuple thats why it is introduced cause ambugitivity\n",
        "print(type(b))\n"
      ],
      "metadata": {
        "id": "jO1DWptYEt6F",
        "outputId": "4a39a7a9-7bec-4375-9f4c-792ab4e43758",
        "colab": {
          "base_uri": "https://localhost:8080/"
        }
      },
      "execution_count": 15,
      "outputs": [
        {
          "output_type": "stream",
          "name": "stdout",
          "text": [
            "<class 'int'>\n",
            "<class 'tuple'>\n"
          ]
        }
      ]
    },
    {
      "cell_type": "code",
      "source": [
        "# accessing the tuple\n",
        "tup3 = (10, \"b\", 70, \"d\")\n",
        "print(tup3[0])  # always use the [] to access\n",
        "print(tup3[-1])\n",
        "print(tup3[2])\n",
        "print(tup3[3])\n",
        "print(tup3[2:10])"
      ],
      "metadata": {
        "id": "vEQrSXOnFm9j",
        "outputId": "afc176c4-11d7-47f4-b06c-dde94d0bb413",
        "colab": {
          "base_uri": "https://localhost:8080/"
        }
      },
      "execution_count": 18,
      "outputs": [
        {
          "output_type": "stream",
          "name": "stdout",
          "text": [
            "10\n",
            "d\n",
            "70\n",
            "d\n",
            "(70, 'd')\n"
          ]
        }
      ]
    },
    {
      "cell_type": "code",
      "source": [
        "if \"b\" in tup3:\n",
        "    print(\"yes\")\n",
        "else:\n",
        "    print(\"no\")"
      ],
      "metadata": {
        "id": "05jmB06cGe4L",
        "outputId": "f9d99919-4a2e-41c1-b18b-d48260d4c6ac",
        "colab": {
          "base_uri": "https://localhost:8080/"
        }
      },
      "execution_count": 19,
      "outputs": [
        {
          "output_type": "stream",
          "name": "stdout",
          "text": [
            "yes\n"
          ]
        }
      ]
    },
    {
      "cell_type": "code",
      "source": [
        "# update a tuple\n",
        "tup3[0] = 100  #it'll throw error since its immutiable"
      ],
      "metadata": {
        "id": "_TWj4OwlGsTi",
        "outputId": "fa7cbf1d-0e78-49c0-b9ae-a45150ae0636",
        "colab": {
          "base_uri": "https://localhost:8080/",
          "height": 158
        }
      },
      "execution_count": 20,
      "outputs": [
        {
          "output_type": "error",
          "ename": "TypeError",
          "evalue": "'tuple' object does not support item assignment",
          "traceback": [
            "\u001b[0;31m---------------------------------------------------------------------------\u001b[0m",
            "\u001b[0;31mTypeError\u001b[0m                                 Traceback (most recent call last)",
            "\u001b[0;32m<ipython-input-20-fd32a20c6eaf>\u001b[0m in \u001b[0;36m<cell line: 2>\u001b[0;34m()\u001b[0m\n\u001b[1;32m      1\u001b[0m \u001b[0;31m# update a tuple\u001b[0m\u001b[0;34m\u001b[0m\u001b[0;34m\u001b[0m\u001b[0m\n\u001b[0;32m----> 2\u001b[0;31m \u001b[0mtup3\u001b[0m\u001b[0;34m[\u001b[0m\u001b[0;36m0\u001b[0m\u001b[0;34m]\u001b[0m \u001b[0;34m=\u001b[0m \u001b[0;36m100\u001b[0m\u001b[0;34m\u001b[0m\u001b[0;34m\u001b[0m\u001b[0m\n\u001b[0m",
            "\u001b[0;31mTypeError\u001b[0m: 'tuple' object does not support item assignment"
          ]
        }
      ]
    },
    {
      "cell_type": "code",
      "source": [
        "# converting tuple into list\n",
        "t8 = (1,2,3,4,5)\n",
        "t9 = list(t8)\n",
        "print(t9)\n",
        "print(type(t9))\n",
        "t9[0] = 100\n",
        "print(t9)\n",
        "t8 = tuple(t9)\n",
        "print(t8)\n",
        "print(type(t8))"
      ],
      "metadata": {
        "id": "sGRFn6iLHAvG",
        "outputId": "d8be7d8e-3a71-4193-d298-746fe985e9a1",
        "colab": {
          "base_uri": "https://localhost:8080/"
        }
      },
      "execution_count": 23,
      "outputs": [
        {
          "output_type": "stream",
          "name": "stdout",
          "text": [
            "[1, 2, 3, 4, 5]\n",
            "<class 'list'>\n",
            "[100, 2, 3, 4, 5]\n",
            "(100, 2, 3, 4, 5)\n",
            "<class 'tuple'>\n"
          ]
        }
      ]
    },
    {
      "cell_type": "code",
      "source": [
        "del t8 # deleting tuple whole"
      ],
      "metadata": {
        "id": "PAiSdMgQH7hc"
      },
      "execution_count": 24,
      "outputs": []
    },
    {
      "cell_type": "code",
      "source": [
        "#iterate\n",
        "tup3 = (10,20, 70,60)\n",
        "for i in tup3:\n",
        "    print(i)\n",
        "\n",
        "#iterate without creating tuple\n",
        "for i in (1,2,3,4):\n",
        "    print(i)"
      ],
      "metadata": {
        "id": "h2tOVTG1IB1F",
        "outputId": "f111fd12-e0ef-408f-bb7a-019adb659aed",
        "colab": {
          "base_uri": "https://localhost:8080/"
        }
      },
      "execution_count": 26,
      "outputs": [
        {
          "output_type": "stream",
          "name": "stdout",
          "text": [
            "10\n",
            "20\n",
            "70\n",
            "60\n",
            "1\n",
            "2\n",
            "3\n",
            "4\n"
          ]
        }
      ]
    },
    {
      "cell_type": "code",
      "source": [
        "s = [[\"akash\",25,\"BE\"],[\"John\",26,\"BSC\"],[\"smith\",21,\"MBBS\"]]\n",
        "print(s[0])"
      ],
      "metadata": {
        "id": "RDI6iJzrKkh9",
        "outputId": "8465c885-74ec-4564-da4c-09601e7c1176",
        "colab": {
          "base_uri": "https://localhost:8080/"
        }
      },
      "execution_count": 28,
      "outputs": [
        {
          "output_type": "stream",
          "name": "stdout",
          "text": [
            "['akash', 25, 'BE']\n"
          ]
        }
      ]
    },
    {
      "cell_type": "code",
      "source": [
        "d1 = {\"name\":\"akash\",\"age\":25,\"course\":\"BE\"}\n",
        "print(d1[\"name\"])\n",
        "\n",
        "d2 = {10:111, 20:222, 30:333}\n",
        "print(d2[10])"
      ],
      "metadata": {
        "id": "xRJPlt24LHnC",
        "outputId": "8bb12663-4a74-4b48-fec4-76c7d094ab20",
        "colab": {
          "base_uri": "https://localhost:8080/"
        }
      },
      "execution_count": 31,
      "outputs": [
        {
          "output_type": "stream",
          "name": "stdout",
          "text": [
            "akash\n",
            "111\n"
          ]
        }
      ]
    },
    {
      "cell_type": "code",
      "source": [
        "d3 = {\"usn1\":[\"akash\",25,\"BE\"], \"usn2\":[\"John\",26,\"BSC\"], \"usn3\":[\"smith\",21,\"MBBS\"]}\n",
        "print(d3[\"usn1\"])\n",
        "\n",
        "print(len(d3))\n",
        "print(type(d3))"
      ],
      "metadata": {
        "id": "c6K1724sLzjW",
        "outputId": "0faeeb03-19e8-4baf-a6dd-fa05351d0cf3",
        "colab": {
          "base_uri": "https://localhost:8080/"
        }
      },
      "execution_count": 36,
      "outputs": [
        {
          "output_type": "stream",
          "name": "stdout",
          "text": [
            "['akash', 25, 'BE']\n",
            "3\n",
            "<class 'dict'>\n"
          ]
        }
      ]
    },
    {
      "cell_type": "code",
      "source": [
        "# creating dictonary with the help of constructor dict method\n",
        "d4 = dict(name = \"akash\", age = 25, course = \"BE\")\n",
        "print(d4)"
      ],
      "metadata": {
        "id": "nbgwkdDVMrai",
        "outputId": "8dc8210e-af1e-49c2-9fac-0d87b1d51abd",
        "colab": {
          "base_uri": "https://localhost:8080/"
        }
      },
      "execution_count": 38,
      "outputs": [
        {
          "output_type": "stream",
          "name": "stdout",
          "text": [
            "{'name': 'akash', 'age': 25, 'course': 'BE'}\n"
          ]
        }
      ]
    },
    {
      "cell_type": "code",
      "source": [
        "# i want to check all the keys\n",
        "x = d4.keys()\n",
        "print(x)"
      ],
      "metadata": {
        "id": "2bw_WjS5M8vq",
        "outputId": "9f48d0ea-6ce6-404a-da94-ec2b177404ae",
        "colab": {
          "base_uri": "https://localhost:8080/"
        }
      },
      "execution_count": 39,
      "outputs": [
        {
          "output_type": "stream",
          "name": "stdout",
          "text": [
            "dict_keys(['name', 'age', 'course'])\n"
          ]
        }
      ]
    },
    {
      "cell_type": "code",
      "source": [
        "# i want to check all the values\n",
        "\n",
        "y = d4.values()\n",
        "print(y)"
      ],
      "metadata": {
        "id": "qTa4F_xyNNv3",
        "outputId": "684a8dbe-ca08-4906-bb3e-5d7455baa6c2",
        "colab": {
          "base_uri": "https://localhost:8080/"
        }
      },
      "execution_count": 40,
      "outputs": [
        {
          "output_type": "stream",
          "name": "stdout",
          "text": [
            "dict_values(['akash', 25, 'BE'])\n"
          ]
        }
      ]
    },
    {
      "cell_type": "code",
      "source": [
        "# i want both keys and values\n",
        "\n",
        "z = d4.items()\n",
        "print(z)"
      ],
      "metadata": {
        "id": "RWoN1JOmNaI7",
        "outputId": "377c4c3e-bdbd-4510-9f8c-062ee02f059a",
        "colab": {
          "base_uri": "https://localhost:8080/"
        }
      },
      "execution_count": 41,
      "outputs": [
        {
          "output_type": "stream",
          "name": "stdout",
          "text": [
            "dict_items([('name', 'akash'), ('age', 25), ('course', 'BE')])\n"
          ]
        }
      ]
    },
    {
      "cell_type": "code",
      "source": [
        "# update the value\n",
        "d4[\"age\"] = 26\n",
        "print(d4)"
      ],
      "metadata": {
        "id": "8jp6qT8lNjBT",
        "outputId": "ab042c5f-0d4e-4c68-d579-21dc3042e87f",
        "colab": {
          "base_uri": "https://localhost:8080/"
        }
      },
      "execution_count": 42,
      "outputs": [
        {
          "output_type": "stream",
          "name": "stdout",
          "text": [
            "{'name': 'akash', 'age': 26, 'course': 'BE'}\n"
          ]
        }
      ]
    },
    {
      "cell_type": "code",
      "source": [
        "# update the values using update method\n",
        "d4.update({\"age\":27})\n",
        "print(d4)"
      ],
      "metadata": {
        "id": "Wew3f_oCNs99"
      },
      "execution_count": null,
      "outputs": []
    },
    {
      "cell_type": "code",
      "source": [
        "# adding the pair\n",
        "d4[\"country\"] = \"India\"\n",
        "print(d4)"
      ],
      "metadata": {
        "id": "_prgR7DYOOQ1",
        "outputId": "5e3ebab3-5e06-4bab-e903-2b0a20cc8a03",
        "colab": {
          "base_uri": "https://localhost:8080/"
        }
      },
      "execution_count": 43,
      "outputs": [
        {
          "output_type": "stream",
          "name": "stdout",
          "text": [
            "{'name': 'akash', 'age': 26, 'course': 'BE', 'country': 'India'}\n"
          ]
        }
      ]
    },
    {
      "cell_type": "code",
      "source": [
        "# deleting the item\n",
        "del d4[\"country\"]\n",
        "print(d4)"
      ],
      "metadata": {
        "id": "zxftrLIcOZj7",
        "outputId": "eafbcbe0-6e4f-4c94-c25e-7dd5ab13cd1a",
        "colab": {
          "base_uri": "https://localhost:8080/"
        }
      },
      "execution_count": 44,
      "outputs": [
        {
          "output_type": "stream",
          "name": "stdout",
          "text": [
            "{'name': 'akash', 'age': 26, 'course': 'BE'}\n"
          ]
        }
      ]
    },
    {
      "cell_type": "code",
      "source": [
        "# deleting the item using pop\n",
        "d4.pop(\"age\")\n",
        "print(d4)"
      ],
      "metadata": {
        "id": "GdUwlaU6OkXk",
        "outputId": "a0ba1eb5-0472-4700-cc40-c4c0482614af",
        "colab": {
          "base_uri": "https://localhost:8080/"
        }
      },
      "execution_count": 45,
      "outputs": [
        {
          "output_type": "stream",
          "name": "stdout",
          "text": [
            "{'name': 'akash', 'course': 'BE'}\n"
          ]
        }
      ]
    },
    {
      "cell_type": "code",
      "source": [
        "# completly deleting dict\n",
        "del d4"
      ],
      "metadata": {
        "id": "XHQNWiQGO05B"
      },
      "execution_count": 46,
      "outputs": []
    },
    {
      "cell_type": "code",
      "source": [
        "# iterating over d4\n",
        "d4 = dict(name = \"akash\", age = 25, course = \"BE\")\n",
        "for i in d4:\n",
        "    print(d4[i])  # only i will access keys and d4[i] will access keys"
      ],
      "metadata": {
        "id": "V6sxE5RvO8zn",
        "outputId": "fc7213ed-7fd0-4b8b-f41c-522c974bc9cb",
        "colab": {
          "base_uri": "https://localhost:8080/"
        }
      },
      "execution_count": 49,
      "outputs": [
        {
          "output_type": "stream",
          "name": "stdout",
          "text": [
            "akash\n",
            "25\n",
            "BE\n"
          ]
        }
      ]
    },
    {
      "cell_type": "code",
      "source": [
        "#NUMPY\n",
        "import numpy as np     # np is alias name for numpy\n",
        "\n",
        "arr = np.array([1,2,3,4,5])\n",
        "print(arr)\n",
        "print(type(arr))\n",
        "print(arr.ndim)   # print dimension of array\n",
        "print(arr.size)   # print size of array\n",
        "print(arr.shape)  # print the shape of array always entered as tuple\n",
        "print(arr.dtype) # print the data type of array i.e int64"
      ],
      "metadata": {
        "id": "UuAGxadUQ_74",
        "outputId": "f1b06e09-383b-4e85-81b1-eecee30b168e",
        "colab": {
          "base_uri": "https://localhost:8080/"
        }
      },
      "execution_count": 54,
      "outputs": [
        {
          "output_type": "stream",
          "name": "stdout",
          "text": [
            "[1 2 3 4 5]\n",
            "<class 'numpy.ndarray'>\n",
            "1\n",
            "5\n",
            "(5,)\n",
            "int64\n"
          ]
        }
      ]
    },
    {
      "cell_type": "code",
      "source": [
        "# multidimentional array\n",
        "arr1 = np.array([[1,2,3],[4,5,6]])\n",
        "print(arr1)\n",
        "print(type(arr1))\n",
        "print(arr1.ndim)\n",
        "print(arr1.size)\n",
        "print(arr1.shape)  #(2,3) 2dimentional array with three column\n",
        "print(arr1.dtype)"
      ],
      "metadata": {
        "id": "LTu-VkrPTmHW",
        "outputId": "b51547eb-59c1-4a55-d61e-c7c5de1569ac",
        "colab": {
          "base_uri": "https://localhost:8080/"
        }
      },
      "execution_count": 56,
      "outputs": [
        {
          "output_type": "stream",
          "name": "stdout",
          "text": [
            "[[1 2 3]\n",
            " [4 5 6]]\n",
            "<class 'numpy.ndarray'>\n",
            "2\n",
            "6\n",
            "(2, 3)\n",
            "int64\n"
          ]
        }
      ]
    },
    {
      "cell_type": "code",
      "source": [
        "# three dimentaional array\n",
        "\n",
        "arr2 = np.array([[[1,2,3],[4,5,6]],[[7,8,9],[10,11,12]]])\n",
        "print(arr2)\n",
        "print(type(arr2))\n",
        "print(arr2.ndim)\n",
        "print(arr2.size)\n",
        "print(arr2.shape)  #(2,2,3) two two dimentional array with three column\n",
        "print(arr2.dtype)"
      ],
      "metadata": {
        "id": "xXSPlGijUStD",
        "outputId": "f2b50e47-4a35-4f86-81e1-788eaa06a9f4",
        "colab": {
          "base_uri": "https://localhost:8080/"
        }
      },
      "execution_count": 57,
      "outputs": [
        {
          "output_type": "stream",
          "name": "stdout",
          "text": [
            "[[[ 1  2  3]\n",
            "  [ 4  5  6]]\n",
            "\n",
            " [[ 7  8  9]\n",
            "  [10 11 12]]]\n",
            "<class 'numpy.ndarray'>\n",
            "3\n",
            "12\n",
            "(2, 2, 3)\n",
            "int64\n"
          ]
        }
      ]
    }
  ]
}